{
  "nbformat": 4,
  "nbformat_minor": 0,
  "metadata": {
    "colab": {
      "provenance": [],
      "include_colab_link": true
    },
    "kernelspec": {
      "name": "python3",
      "display_name": "Python 3"
    },
    "language_info": {
      "name": "python"
    }
  },
  "cells": [
    {
      "cell_type": "markdown",
      "metadata": {
        "id": "view-in-github",
        "colab_type": "text"
      },
      "source": [
        "<a href=\"https://colab.research.google.com/github/PATELOM925/Probabilistic-Models-and-Machine-Learning/blob/main/Week0_EECS6327_Python_Basics.ipynb\" target=\"_parent\"><img src=\"https://colab.research.google.com/assets/colab-badge.svg\" alt=\"Open In Colab\"/></a>"
      ]
    },
    {
      "cell_type": "markdown",
      "source": [
        "# **Python Basics: A Quick Review**\n",
        "\n",
        "\n",
        "This is not a comprehensive review for python but just a quick highlight of some basic python syntaxes.\n",
        "\n",
        "Reference:\n",
        "[1] https://github.com/Asabeneh/30-Days-Of-Python"
      ],
      "metadata": {
        "id": "9IIBWcqjjy7Z"
      }
    },
    {
      "cell_type": "markdown",
      "source": [
        "### **1. Python built-in functions and keywords**\n",
        "\n",
        "\n",
        "In python we have lots of built-in functions. Built-in functions are globally available for your use. Some of the most commonly used python built-in functions are the following: `print()`, `len()`, `type()`, `int()`, `float()`, `str()`, `input()`, `list()`, `dict()`, `min()`, `max()`, `sum()`, `sorted()`, `open()`, `file()`, `help()`, and `dir()`.\n",
        "\n",
        "In addition, python also reserves some keywords for its own syntax purpose. In order to show all reserved python keywords, you may run:"
      ],
      "metadata": {
        "id": "2pQXPl9jj992"
      }
    },
    {
      "cell_type": "code",
      "execution_count": 1,
      "metadata": {
        "colab": {
          "base_uri": "https://localhost:8080/"
        },
        "id": "lGG8LVvIjx7A",
        "outputId": "0f5d021f-a8b5-4623-9e99-f677b4879256"
      },
      "outputs": [
        {
          "output_type": "stream",
          "name": "stdout",
          "text": [
            "\n",
            "Here is a list of the Python keywords.  Enter any keyword to get more help.\n",
            "\n",
            "False               class               from                or\n",
            "None                continue            global              pass\n",
            "True                def                 if                  raise\n",
            "and                 del                 import              return\n",
            "as                  elif                in                  try\n",
            "assert              else                is                  while\n",
            "async               except              lambda              with\n",
            "await               finally             nonlocal            yield\n",
            "break               for                 not                 \n",
            "\n"
          ]
        }
      ],
      "source": [
        "help('keywords')"
      ]
    },
    {
      "cell_type": "markdown",
      "source": [
        "### **2. Operators**\n",
        "\n",
        "1. Assignment operators: `=`, `+=`, `*=`, etc.\n",
        "2. Arithmetic Operators: addition(`+`), subtraction(`-`), multiplication(`*`), division(`/`), modulus(`%`), floor division(`//`), exponentiation(`**`).\n",
        "3. Comparison Operators: `==`, `!=`, `>`, `>=`, `<`, `<=`\n",
        "4. Logical Operators: `and, `or`, `not"
      ],
      "metadata": {
        "id": "RGZQm0jbpmhI"
      }
    },
    {
      "cell_type": "markdown",
      "source": [
        "### **3. Strings**"
      ],
      "metadata": {
        "id": "8G_ANrY7kpsC"
      }
    },
    {
      "cell_type": "code",
      "source": [
        "greeting = 'Hello World'  # String could be  a single or double quote,\"Hello, World\"\n",
        "print(greeting)           # Hello, World\n",
        "print(len(greeting))\n",
        "\n",
        "# slicing\n",
        "print(greeting[3])\n",
        "print(greeting[-1])\n",
        "print(greeting[3:6])\n",
        "print(greeting[0:10:2])\n",
        "print(greeting[-3:])\n",
        "print(greeting[::-1])"
      ],
      "metadata": {
        "colab": {
          "base_uri": "https://localhost:8080/"
        },
        "id": "vHZ7d9aHsbgg",
        "outputId": "3985e655-8789-48bf-8cf5-838ec8bf893f"
      },
      "execution_count": 2,
      "outputs": [
        {
          "output_type": "stream",
          "name": "stdout",
          "text": [
            "Hello World\n",
            "11\n",
            "l\n",
            "d\n",
            "lo \n",
            "HloWr\n",
            "rld\n",
            "dlroW olleH\n"
          ]
        }
      ]
    },
    {
      "cell_type": "markdown",
      "source": [
        "### **4. Lists**"
      ],
      "metadata": {
        "id": "ljSjIQqplrky"
      }
    },
    {
      "cell_type": "code",
      "source": [
        "vegetables = ['Tomato', 'Potato', 'Cabbage','Onion', 'Carrot']\n",
        "\n",
        "print('Number of vegetables:', len(vegetables))\n",
        "print(vegetables[1])\n",
        "print(vegetables[-1])\n",
        "print(vegetables[-3])\n",
        "\n",
        "# slicing\n",
        "print(vegetables[1:3])\n",
        "print(vegetables[::2])"
      ],
      "metadata": {
        "colab": {
          "base_uri": "https://localhost:8080/"
        },
        "id": "do0WeYpZz914",
        "outputId": "80107416-d4ab-4f69-8610-73bb1841f611"
      },
      "execution_count": 3,
      "outputs": [
        {
          "output_type": "stream",
          "name": "stdout",
          "text": [
            "Number of vegetables: 5\n",
            "Potato\n",
            "Carrot\n",
            "Cabbage\n",
            "['Potato', 'Cabbage']\n",
            "['Tomato', 'Cabbage', 'Carrot']\n"
          ]
        }
      ]
    },
    {
      "cell_type": "code",
      "source": [
        "# join two lists using +\n",
        "\n",
        "fruits = ['banana', 'orange', 'mango', 'lemon']\n",
        "vegetables = ['Tomato', 'Potato', 'Cabbage', 'Onion', 'Carrot']\n",
        "fruits_and_vegetables = fruits + vegetables\n",
        "print(fruits_and_vegetables)\n",
        "\n",
        "print(fruits_and_vegetables.index('Tomato'))\n",
        "print(fruits_and_vegetables[::-1])\n",
        "\n",
        "# sort a list\n",
        "fruits_and_vegetables.sort(\n",
        ")\n",
        "print(fruits_and_vegetables)\n",
        "\n",
        "# reverse a list\n",
        "fruits_and_vegetables.reverse()\n",
        "print(fruits_and_vegetables)\n",
        "\n",
        "print(fruits_and_vegetables[1].upper())"
      ],
      "metadata": {
        "colab": {
          "base_uri": "https://localhost:8080/"
        },
        "id": "6q0VxgQU1Oqc",
        "outputId": "a34f2db6-2ce2-4a8c-e671-e18132757fb1"
      },
      "execution_count": 16,
      "outputs": [
        {
          "output_type": "stream",
          "name": "stdout",
          "text": [
            "['banana', 'orange', 'mango', 'lemon', 'Tomato', 'Potato', 'Cabbage', 'Onion', 'Carrot']\n",
            "4\n",
            "['Carrot', 'Onion', 'Cabbage', 'Potato', 'Tomato', 'lemon', 'mango', 'orange', 'banana']\n",
            "['Cabbage', 'Carrot', 'Onion', 'Potato', 'Tomato', 'banana', 'lemon', 'mango', 'orange']\n",
            "['orange', 'mango', 'lemon', 'banana', 'Tomato', 'Potato', 'Onion', 'Carrot', 'Cabbage']\n",
            "MANGO\n"
          ]
        }
      ]
    },
    {
      "cell_type": "markdown",
      "source": [
        "### **5. Tuples**\n",
        "\n",
        "A tuple is a collection of different data types which is ordered and unchangeable (immutable)."
      ],
      "metadata": {
        "id": "xMnU4t5DnNLd"
      }
    },
    {
      "cell_type": "code",
      "source": [
        "fruits = ('banana', 'orange', 'mango', 'lemon')\n",
        "print(fruits[1])\n",
        "print(fruits[-1])\n",
        "print(fruits[1:3])\n",
        "print(fruits[-3:-1])"
      ],
      "metadata": {
        "colab": {
          "base_uri": "https://localhost:8080/"
        },
        "id": "jQ23TNTm-C_I",
        "outputId": "996c164f-004f-46c6-e8cc-d323e78588c4"
      },
      "execution_count": 17,
      "outputs": [
        {
          "output_type": "stream",
          "name": "stdout",
          "text": [
            "orange\n",
            "lemon\n",
            "('orange', 'mango')\n",
            "('orange', 'mango')\n"
          ]
        }
      ]
    },
    {
      "cell_type": "markdown",
      "source": [
        "### **6. Sets**\n",
        "\n",
        "Set is a collection of unordered and unindexed distinct elements."
      ],
      "metadata": {
        "id": "9CUfLpa9ndjJ"
      }
    },
    {
      "cell_type": "code",
      "source": [
        "fruits = {'banana', 'orange', 'mango', 'lemon'}\n",
        "print(len(fruits))"
      ],
      "metadata": {
        "id": "RT82jkn7_LfC",
        "colab": {
          "base_uri": "https://localhost:8080/"
        },
        "outputId": "deedc731-fe2b-44e4-8ab4-a376995a3159"
      },
      "execution_count": 19,
      "outputs": [
        {
          "output_type": "stream",
          "name": "stdout",
          "text": [
            "4\n"
          ]
        }
      ]
    },
    {
      "cell_type": "markdown",
      "source": [
        "### **7. Dictionaries**\n",
        "\n",
        "A dictionary is a collection of unordered, modifiable(mutable) paired (key: value) data type."
      ],
      "metadata": {
        "id": "wlJAWoPingfN"
      }
    },
    {
      "cell_type": "code",
      "source": [
        "# syntax\n",
        "empty_dict = {}\n",
        "# Dictionary with data values\n",
        "dct = {'key1':'value1', 'key2':'value2', 'key3':'value3', 'key4':'value4'}\n",
        "\n",
        "print(len(dct))\n",
        "print(dct['key2'])\n",
        "\n",
        "dct['key2'] = 'value-one'  # modify the key2's value\n",
        "print(dct['key2'])\n",
        "\n",
        "dct['key5'] = 'value5' # add a new item\n",
        "print(len(dct))\n",
        "\n",
        "dct.pop('key1') # removes key1 item\n",
        "del dct['key2'] # removes key2 item\n",
        "print(len(dct))\n",
        "\n",
        "\n",
        "keys = dct.keys()   # obtain all keys\n",
        "print(keys)\n",
        "\n",
        "values = dct.values()  # obtain all values\n",
        "print(values)"
      ],
      "metadata": {
        "colab": {
          "base_uri": "https://localhost:8080/"
        },
        "id": "4DX3gPE6KF05",
        "outputId": "f7941b14-876f-4207-efcb-0923547ba780"
      },
      "execution_count": 20,
      "outputs": [
        {
          "output_type": "stream",
          "name": "stdout",
          "text": [
            "4\n",
            "value2\n",
            "value-one\n",
            "5\n",
            "3\n",
            "dict_keys(['key3', 'key4', 'key5'])\n",
            "dict_values(['value3', 'value4', 'value5'])\n"
          ]
        }
      ]
    },
    {
      "cell_type": "markdown",
      "source": [
        "### **8. Control and Conditions**\n",
        "\n",
        "(8.1) `if` conditions\n"
      ],
      "metadata": {
        "id": "eZR9dBnEn3nm"
      }
    },
    {
      "cell_type": "code",
      "source": [
        "a = 0\n",
        "if a > 0 and a % 2 == 0:\n",
        "        print('A is an even and positive integer')\n",
        "elif a > 0 and a % 2 != 0:\n",
        "     print('A is a positive integer')\n",
        "elif a == 0:\n",
        "    print('A is zero')\n",
        "else:\n",
        "    print('A is negative')"
      ],
      "metadata": {
        "colab": {
          "base_uri": "https://localhost:8080/"
        },
        "id": "CRi0Qr_vQez3",
        "outputId": "1c189d2b-274e-4136-b3fd-387fdede4f50"
      },
      "execution_count": 21,
      "outputs": [
        {
          "output_type": "stream",
          "name": "stdout",
          "text": [
            "A is zero\n"
          ]
        }
      ]
    },
    {
      "cell_type": "markdown",
      "source": [
        "(8.2) loops: `while` and `for`"
      ],
      "metadata": {
        "id": "GFLgRDD_QWAc"
      }
    },
    {
      "cell_type": "code",
      "source": [
        "count = 0\n",
        "while count < 5:\n",
        "    print(count)\n",
        "    count = count + 1"
      ],
      "metadata": {
        "colab": {
          "base_uri": "https://localhost:8080/"
        },
        "id": "TxV33QU3RDkH",
        "outputId": "c41d94c4-abe1-4ede-ec0f-7c4584c8df0b"
      },
      "execution_count": 22,
      "outputs": [
        {
          "output_type": "stream",
          "name": "stdout",
          "text": [
            "0\n",
            "1\n",
            "2\n",
            "3\n",
            "4\n"
          ]
        }
      ]
    },
    {
      "cell_type": "code",
      "source": [
        "numbers = [0, 1, 2, 3, 4, 5]\n",
        "for number in numbers: # number is temporary name to refer to the list's items, valid only inside this loop\n",
        "    print(number)\n",
        "\n",
        "language = 'Python'\n",
        "for letter in language:\n",
        "    print(letter)\n",
        "\n",
        "dct = {'key1':'value1', 'key2':'value2', 'key3':'value3', 'key4':'value4'}\n",
        "for key in dct:\n",
        "    print(key)\n",
        "\n",
        "for key, value in dct.items():\n",
        "    print(key, value) #\n",
        "\n",
        "for number in range(11):   # range()\n",
        "    print(number)"
      ],
      "metadata": {
        "colab": {
          "base_uri": "https://localhost:8080/"
        },
        "id": "E0p6sp_sRFxj",
        "outputId": "bbeeffd1-c853-4e00-b25e-3d0ecc8b6560"
      },
      "execution_count": 23,
      "outputs": [
        {
          "output_type": "stream",
          "name": "stdout",
          "text": [
            "0\n",
            "1\n",
            "2\n",
            "3\n",
            "4\n",
            "5\n",
            "P\n",
            "y\n",
            "t\n",
            "h\n",
            "o\n",
            "n\n",
            "key1\n",
            "key2\n",
            "key3\n",
            "key4\n",
            "key1 value1\n",
            "key2 value2\n",
            "key3 value3\n",
            "key4 value4\n",
            "0\n",
            "1\n",
            "2\n",
            "3\n",
            "4\n",
            "5\n",
            "6\n",
            "7\n",
            "8\n",
            "9\n",
            "10\n"
          ]
        }
      ]
    },
    {
      "cell_type": "markdown",
      "source": [
        "### **9. Functions**"
      ],
      "metadata": {
        "id": "1nuUyGproVtb"
      }
    },
    {
      "cell_type": "code",
      "source": [
        "def add_two_numbers (num1, num2):\n",
        "    total = num1 + num2\n",
        "    return total\n",
        "print(add_two_numbers(2, 3))\n",
        "\n",
        "def calculate_age (current_year, birth_year):\n",
        "    age = current_year - birth_year\n",
        "    return age;\n",
        "print('Age: ', calculate_age(2019, 1819))\n"
      ],
      "metadata": {
        "colab": {
          "base_uri": "https://localhost:8080/"
        },
        "id": "T1c8te3dSVE-",
        "outputId": "581362f8-1233-4e7f-b53e-8a4950a41c9b"
      },
      "execution_count": 24,
      "outputs": [
        {
          "output_type": "stream",
          "name": "stdout",
          "text": [
            "5\n",
            "Age:  200\n"
          ]
        }
      ]
    },
    {
      "cell_type": "markdown",
      "source": [
        "### **10. Some python's own syntaxes**\n",
        "\n",
        "   (10.1) List Comprehension"
      ],
      "metadata": {
        "id": "u9DmePK6Sr-g"
      }
    },
    {
      "cell_type": "code",
      "source": [
        "language = 'Python'\n",
        "\n",
        "lst = [i for i in language]\n",
        "\n",
        "print(lst)\n",
        "\n",
        "squares = [i * i for i in range(11)]\n",
        "print(squares)\n",
        "\n",
        "numbers = [(i, i * i) for i in range(11)]    # make a list of tuples\n",
        "print(numbers)"
      ],
      "metadata": {
        "colab": {
          "base_uri": "https://localhost:8080/"
        },
        "id": "PPwQsfqwTKtf",
        "outputId": "0c0bf45d-0a98-4fa5-f80c-10bf11918025"
      },
      "execution_count": 25,
      "outputs": [
        {
          "output_type": "stream",
          "name": "stdout",
          "text": [
            "['P', 'y', 't', 'h', 'o', 'n']\n",
            "[0, 1, 4, 9, 16, 25, 36, 49, 64, 81, 100]\n",
            "[(0, 0), (1, 1), (2, 4), (3, 9), (4, 16), (5, 25), (6, 36), (7, 49), (8, 64), (9, 81), (10, 100)]\n"
          ]
        }
      ]
    },
    {
      "cell_type": "markdown",
      "source": [
        "     (10.2) Lambda Function"
      ],
      "metadata": {
        "id": "l6nlIxCtT8rI"
      }
    },
    {
      "cell_type": "code",
      "source": [
        "x = lambda param1, param2, param3: param1 + param2 + param3\n",
        "print(x(1, 2, 3))\n",
        "\n",
        "# Multiple variables\n",
        "multiple_variable = lambda a, b, c: a ** 2 - 3 * b + 4 * c\n",
        "print(multiple_variable(5, 5, 3))"
      ],
      "metadata": {
        "colab": {
          "base_uri": "https://localhost:8080/"
        },
        "id": "_HljJODgUC2N",
        "outputId": "634ee59b-adc1-4085-a374-4e95d4d56d99"
      },
      "execution_count": 26,
      "outputs": [
        {
          "output_type": "stream",
          "name": "stdout",
          "text": [
            "6\n",
            "22\n"
          ]
        }
      ]
    },
    {
      "cell_type": "markdown",
      "source": [
        "### **11. Object-Oriented Programming in Python**\n",
        "\n",
        "\n",
        "Review the syntax to define a class in python using `class`:\n",
        "1. Define its member variables as `self.x`m `self.y`, etc...\n",
        "2. Define some special fuunctions, such as `__init__()`, `__str()__`\n",
        "3. Add more methods to the class as `def some_method(self, arg1, arg2, ...)`"
      ],
      "metadata": {
        "id": "uvStYgzXbuk0"
      }
    },
    {
      "cell_type": "code",
      "source": [
        "class Point:\n",
        "  \"\"\" Point class represents and manipulates x,y coords. \"\"\"\n",
        "\n",
        "  def __init__(self, x=0, y=0):\n",
        "    \"\"\" Create a new point at the origin \"\"\"\n",
        "    self.x = x\n",
        "    self.y = y\n",
        "\n",
        "  def __str__(self): # All we have done is renamed the method\n",
        "    return \"({0}, {1})\".format(self.x, self.y)\n",
        "\n",
        "  def distance_from_origin(self):\n",
        "    \"\"\" Compute my distance from the origin \"\"\"\n",
        "    return ((self.x ** 2) + (self.y ** 2)) ** 0.5\n",
        "\n",
        "p = Point(3,4)\n",
        "print(p.x, p.y)\n",
        "print(p.distance_from_origin())\n",
        "\n",
        "\n",
        "class Rectangle:\n",
        "  \"\"\" A class to manufacture rectangle objects \"\"\"\n",
        "\n",
        "  def __init__(self, posn, w, h):\n",
        "    \"\"\" Initialize rectangle at posn, with width w, height h \"\"\"\n",
        "    self.corner = posn\n",
        "    self.width = w\n",
        "    self.height = h\n",
        "\n",
        "  def __str__(self):\n",
        "    return \"({0}, {1}, {2})\".format(self.corner, self.width, self.height)\n",
        "\n",
        "  def move(self, dx, dy):\n",
        "    \"\"\" Move this object by the deltas \"\"\"\n",
        "    self.corner.x += dx\n",
        "    self.corner.y += dy\n",
        "\n",
        "box = Rectangle(Point(0, 0), 100, 200)\n",
        "area = Rectangle(Point(100, 80), 5, 10)\n",
        "\n",
        "print(box)\n",
        "print(area)\n",
        "\n",
        "box.move(10,20)\n",
        "area.move(-20,-30)\n",
        "\n",
        "print(box)\n",
        "print(area)"
      ],
      "metadata": {
        "colab": {
          "base_uri": "https://localhost:8080/"
        },
        "id": "wPXbxqwzcoLp",
        "outputId": "fa05df60-bf9c-43bf-bc10-5e7e89c6f607"
      },
      "execution_count": 27,
      "outputs": [
        {
          "output_type": "stream",
          "name": "stdout",
          "text": [
            "3 4\n",
            "5.0\n",
            "((0, 0), 100, 200)\n",
            "((100, 80), 5, 10)\n",
            "((10, 20), 100, 200)\n",
            "((80, 50), 5, 10)\n"
          ]
        }
      ]
    },
    {
      "cell_type": "markdown",
      "source": [
        "### **Exercise**\n",
        "\n",
        "1. Declare a list variable named it *companies* and assign initial values as *Facebook, Google, Microsoft, Apple, IBM, Oracle and Amazon*; Then Slice out the first 3 companies (and the last 3 companies) from the list; Remove the middle IT company or companies from the list.\n",
        "\n",
        "2. Write and call your function ``factorial()``, which takes a whole number as a parameter and returns a factorial of the number.\n",
        "\n",
        "\n"
      ],
      "metadata": {
        "id": "dEa2BUa2kOr5"
      }
    },
    {
      "cell_type": "code",
      "source": [
        "#1\n",
        "companies = ['Facebook', 'Google', 'Microsoft', 'Apple', 'IBM', 'Oracle', 'Amazon']\n",
        "first_three = companies[:3]\n",
        "print(first_three)\n",
        "last_three = companies[-3:]\n",
        "print(last_three)\n",
        "middle = companies[len(companies)//2]\n",
        "print(middle)\n",
        "companies.remove(middle)\n",
        "print(companies)"
      ],
      "metadata": {
        "colab": {
          "base_uri": "https://localhost:8080/"
        },
        "id": "6z2TeJCoMf_K",
        "outputId": "637a3e48-5554-4352-ee64-d5ec97e60be7"
      },
      "execution_count": 33,
      "outputs": [
        {
          "output_type": "stream",
          "name": "stdout",
          "text": [
            "['Facebook', 'Google', 'Microsoft']\n",
            "['IBM', 'Oracle', 'Amazon']\n",
            "Apple\n",
            "['Facebook', 'Google', 'Microsoft', 'IBM', 'Oracle', 'Amazon']\n"
          ]
        }
      ]
    },
    {
      "cell_type": "code",
      "source": [
        "#2\n",
        "def factorial(n):\n",
        "  if n<0:\n",
        "    print('Enter a whole number')\n",
        "  elif n==0:\n",
        "    return 1\n",
        "  else:\n",
        "    x=1\n",
        "    for i in range(x,n+1):\n",
        "      x*=i\n",
        "  return x\n",
        "\n",
        "print(factorial(11))\n"
      ],
      "metadata": {
        "colab": {
          "base_uri": "https://localhost:8080/"
        },
        "id": "mwUcAAC4MoMV",
        "outputId": "2834b733-e108-4655-96cf-f6992a37bb8a"
      },
      "execution_count": 35,
      "outputs": [
        {
          "output_type": "stream",
          "name": "stdout",
          "text": [
            "39916800\n"
          ]
        }
      ]
    },
    {
      "cell_type": "code",
      "source": [],
      "metadata": {
        "id": "Oq-x8gWZOJ0i"
      },
      "execution_count": null,
      "outputs": []
    }
  ]
}