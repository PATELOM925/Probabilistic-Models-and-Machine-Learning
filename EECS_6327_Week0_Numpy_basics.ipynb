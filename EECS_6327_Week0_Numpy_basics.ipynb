{
  "nbformat": 4,
  "nbformat_minor": 0,
  "metadata": {
    "colab": {
      "provenance": [],
      "include_colab_link": true
    },
    "kernelspec": {
      "name": "python3",
      "display_name": "Python 3"
    },
    "language_info": {
      "name": "python"
    }
  },
  "cells": [
    {
      "cell_type": "markdown",
      "metadata": {
        "id": "view-in-github",
        "colab_type": "text"
      },
      "source": [
        "<a href=\"https://colab.research.google.com/github/PATELOM925/Probabilistic-Models-and-Machine-Learning/blob/main/EECS_6327_Week0_Numpy_basics.ipynb\" target=\"_parent\"><img src=\"https://colab.research.google.com/assets/colab-badge.svg\" alt=\"Open In Colab\"/></a>"
      ]
    },
    {
      "cell_type": "markdown",
      "source": [
        "# **Numpy Basics: A Quick Review**\n",
        "\n",
        "\n",
        "This is not a comprehensive review for *numpy* but just a quick highlight of some basic *numpy* functions.\n",
        "\n",
        "Python's inborn data structures, such as lists and dictionaries, are not designed for high-performance scientific computations. An external package, named *numpy*, is created for this purpose. *Numpy* maintains its own multi-dimensional arrays and many convenient functions to manipulate these arrays in a very efficient mannor.\n"
      ],
      "metadata": {
        "id": "oyeTUbpaO0lf"
      }
    },
    {
      "cell_type": "markdown",
      "source": [
        "### **1. Create numpy arrays**"
      ],
      "metadata": {
        "id": "iUlsyHxFRcKG"
      }
    },
    {
      "cell_type": "code",
      "source": [
        "import numpy as np\n",
        "\n",
        "# create an array using np.array()\n",
        "array1 = np.array([[3, 4, 5],[0, 1, 2]])\n",
        "print(array1)\n",
        "\n",
        "# create an array filled with zeros using np.zeros()\n",
        "array2 = np.zeros((3, 3))\n",
        "print(array2)\n",
        "\n",
        "# create an array filled with ones using np.ones()\n",
        "array3 = np.ones((3, 4))\n",
        "print(array3)\n",
        "\n",
        "# create a random array\n",
        "array4 = np.random.normal((3, 3))    # normally distributed using np.random.normal()\n",
        "print(array4)\n",
        "\n",
        "array5 = np.random.uniform(low=-1.0, high=1.0, size=(4,4)) # uniformly distributed\n",
        "print(array5)"
      ],
      "metadata": {
        "colab": {
          "base_uri": "https://localhost:8080/"
        },
        "id": "NyrGLaOgVbWe",
        "outputId": "0c3d63b9-2253-4a2a-fe75-169a8dfc4641"
      },
      "execution_count": 2,
      "outputs": [
        {
          "output_type": "stream",
          "name": "stdout",
          "text": [
            "[[3 4 5]\n",
            " [0 1 2]]\n",
            "[[0. 0. 0.]\n",
            " [0. 0. 0.]\n",
            " [0. 0. 0.]]\n",
            "[[1. 1. 1. 1.]\n",
            " [1. 1. 1. 1.]\n",
            " [1. 1. 1. 1.]]\n",
            "[3.11941972 1.16014764]\n",
            "[[ 0.34719919 -0.16937987 -0.22686    -0.19896477]\n",
            " [-0.24759706 -0.96046948 -0.31318918 -0.70952729]\n",
            " [ 0.3460279  -0.28900342 -0.41010338 -0.50337563]\n",
            " [ 0.62269416 -0.61887895 -0.64032714  0.48367593]]\n"
          ]
        }
      ]
    },
    {
      "cell_type": "markdown",
      "source": [
        "### **2. Manipulate numpy arrays**"
      ],
      "metadata": {
        "id": "Cfm2hfRtRgKY"
      }
    },
    {
      "cell_type": "code",
      "source": [
        "# reshape or rearrange NumPy arrays\n",
        "\n",
        "import numpy as np\n",
        "\n",
        "# create a 1D array\n",
        "array1 = np.array([1, 3, 5, 7, 9, 11])\n",
        "print(array1)\n",
        "\n",
        "# reshape the 1D array into a 2D array\n",
        "array2 = np.reshape(array1, (2, 3))\n",
        "print(array2)\n",
        "\n",
        "# transpose the 2D array\n",
        "array3 = np.transpose(array2)\n",
        "print(array3)\n"
      ],
      "metadata": {
        "colab": {
          "base_uri": "https://localhost:8080/"
        },
        "id": "0GINVB5ZXuwO",
        "outputId": "659fe716-67f4-4dcf-bd1e-166f002c138a"
      },
      "execution_count": 3,
      "outputs": [
        {
          "output_type": "stream",
          "name": "stdout",
          "text": [
            "[ 1  3  5  7  9 11]\n",
            "[[ 1  3  5]\n",
            " [ 7  9 11]]\n",
            "[[ 1  7]\n",
            " [ 3  9]\n",
            " [ 5 11]]\n"
          ]
        }
      ]
    },
    {
      "cell_type": "code",
      "source": [
        "# Array Mathematical Functions\n",
        "import numpy as np\n",
        "\n",
        "array1 = np.array([[1, 2, 3], [4, 5, 6]])\n",
        "print(array1.shape)\n",
        "\n",
        "# compute square root of array1 element-wise\n",
        "arr_sqrt = np.sqrt(array1)\n",
        "print(arr_sqrt)\n",
        "\n",
        "# compute exponents of array2 element-wise\n",
        "arr_exp= np.exp(array1)\n",
        "print(arr_exp)\n",
        "\n",
        "# sum arrays\n",
        "arr_sum0 = np.sum(array1,0)   # sum along column\n",
        "print(arr_sum0)\n",
        "\n",
        "arr_sum1 = np.sum(array1,1)   # sum along row\n",
        "print(arr_sum1)\n",
        "\n",
        "arr_sum = np.sum(array1)      # sum all\n",
        "print(arr_sum)"
      ],
      "metadata": {
        "colab": {
          "base_uri": "https://localhost:8080/"
        },
        "id": "Aja74VuWYH7T",
        "outputId": "637ce8a7-f6fa-4cce-f117-ce83595a3ecd"
      },
      "execution_count": 5,
      "outputs": [
        {
          "output_type": "stream",
          "name": "stdout",
          "text": [
            "(2, 3)\n",
            "[[1.         1.41421356 1.73205081]\n",
            " [2.         2.23606798 2.44948974]]\n",
            "[[  2.71828183   7.3890561   20.08553692]\n",
            " [ 54.59815003 148.4131591  403.42879349]]\n",
            "[5 7 9]\n",
            "[ 6 15]\n",
            "21\n"
          ]
        }
      ]
    },
    {
      "cell_type": "code",
      "source": [
        "import numpy as np\n",
        "\n",
        "# create a numpy array\n",
        "marks = np.array([76, 78, 81, 66, 85])\n",
        "\n",
        "# compute the mean of marks\n",
        "mean_marks = np.mean(marks)\n",
        "print(mean_marks)\n",
        "\n",
        "# compute the median of marks\n",
        "median_marks = np.median(marks)\n",
        "print(median_marks)\n",
        "\n",
        "# find the minimum and maximum marks\n",
        "min_marks = np.min(marks)\n",
        "print(min_marks)\n",
        "\n",
        "max_marks = np.max(marks)\n",
        "print(max_marks)"
      ],
      "metadata": {
        "colab": {
          "base_uri": "https://localhost:8080/"
        },
        "id": "u4egCYAiZdtk",
        "outputId": "e7d05ab0-4a09-4d57-8180-3b59b9300683"
      },
      "execution_count": 6,
      "outputs": [
        {
          "output_type": "stream",
          "name": "stdout",
          "text": [
            "77.2\n",
            "78.0\n",
            "66\n",
            "85\n"
          ]
        }
      ]
    },
    {
      "cell_type": "markdown",
      "source": [
        "### **3. Matrix multiplication and inner-product**"
      ],
      "metadata": {
        "id": "u1HcmAe4Rk58"
      }
    },
    {
      "cell_type": "code",
      "source": [
        "import numpy as np\n",
        "\n",
        "v1 = np.random.normal(size =(5,5))   # random vector1\n",
        "print(v1)\n",
        "\n",
        "v2 = np.random.normal(size =(5,5))   # random vector2\n",
        "print(v2)\n",
        "\n",
        "dot12 = np.dot(v1, v2)   # inner-product of two vectors\n",
        "print(dot12)\n",
        "\n",
        "v12 = v1 * v2         # element-wise multiplication\n",
        "print(np.sum(v1*v2))  # another way to compute inner-product\n",
        "\n",
        "dot11 = np.dot(v1, v1)   # L2 norm of a vector\n",
        "print(dot11)"
      ],
      "metadata": {
        "colab": {
          "base_uri": "https://localhost:8080/"
        },
        "id": "OwsRYBUbHkGH",
        "outputId": "4990ad44-ff78-485a-ee9c-5e896e515d2c"
      },
      "execution_count": 10,
      "outputs": [
        {
          "output_type": "stream",
          "name": "stdout",
          "text": [
            "[[ 1.05265109 -0.43558575 -0.38825479  0.10928061  0.65658983]\n",
            " [ 0.13845848 -0.88871972  0.21661416 -0.19334491  1.23029115]\n",
            " [-0.82471456  0.90377807 -0.22700276 -1.14494104  0.5716267 ]\n",
            " [ 0.40787954 -1.29473403  0.4880181  -0.70643306  0.30574458]\n",
            " [ 1.90940905 -0.34974076 -0.64282148  1.28934758 -0.18780788]]\n",
            "[[ 0.92919532  0.41553249  1.6644627   2.13027322 -2.9073038 ]\n",
            " [ 2.12299153 -0.37418499 -0.0413522  -1.82592602 -0.09642583]\n",
            " [-0.42917581 -0.02176689 -2.43106564 -0.91042338  1.03247428]\n",
            " [-0.24914341 -0.2132857   0.54790983 -0.23398876  0.02842822]\n",
            " [-0.18461976 -0.4938023  -0.15324946  0.75511886  0.57800307]]\n",
            "[[ 0.07155719  0.26131792  2.67323768  3.86149095 -3.0366203 ]\n",
            " [-2.03002047 -0.18091833 -0.55387079  2.69473684  0.61241884]\n",
            " [ 1.4295373  -0.71400577 -1.57314717 -2.50088119  2.37402707]\n",
            " [-2.45959853  0.6430293  -0.88788047  3.18485122 -0.40047911]\n",
            " [ 1.02104129  0.75602203  5.49057158  4.84789332 -6.25310444]]\n",
            "3.2450790499286493\n",
            "[[ 2.66623506 -0.79342789 -0.78365509  1.41315457 -0.15657487]\n",
            " [ 2.11432045  0.74533061 -1.18065185  1.66180798 -1.16882367]\n",
            " [ 0.0686827   0.63334137 -0.35870511  1.54088829 -0.01676539]\n",
            " [ 0.14326418  2.2217608  -1.09089168  0.62941032 -1.31953541]\n",
            " [ 2.65895762 -2.70553593  0.07877813 -0.14071272  0.88544452]]\n"
          ]
        }
      ]
    },
    {
      "cell_type": "code",
      "source": [
        "import numpy as np\n",
        "\n",
        "A = np.random.normal(size =(5, 5))   # random 5x5 matrix\n",
        "print(A)\n",
        "\n",
        "B = np.triu(np.ones((5,5)))         # upper triangular matrix\n",
        "print(B)\n",
        "\n",
        "B2 = np.tril(np.ones((5,5)))         # upper triangular matrix\n",
        "print(B2)\n",
        "\n",
        "v = np.random.normal(size =(5))   # random vector\n",
        "print(v)\n",
        "\n",
        "res1 = A * B      # element-wise multiplication of two matrice\n",
        "print(res1)\n",
        "\n",
        "res2 = A @ B      # MATRIX MULTIPLICATION\n",
        "print(res2)\n",
        "\n",
        "res3 = v @ A      # matrix multiplication\n",
        "# print(res3)\n",
        "\n",
        "res4 = B @ v      # matrix multiplication\n",
        "# print(res4)\n"
      ],
      "metadata": {
        "colab": {
          "base_uri": "https://localhost:8080/"
        },
        "id": "o1qGum2iLDiM",
        "outputId": "d22bc45e-f7e9-4062-b329-9774d87426b8"
      },
      "execution_count": 16,
      "outputs": [
        {
          "output_type": "stream",
          "name": "stdout",
          "text": [
            "[[ 0.1410907   0.21422481  1.06159304 -0.2108711   0.37152439]\n",
            " [-1.68633017  1.53617759  0.02399721  1.53865775  0.7965674 ]\n",
            " [ 1.41038359  1.91320106  1.18814158 -0.56289813 -0.93702525]\n",
            " [ 1.93896801  1.3035791  -0.45450581  0.20265276  1.78272652]\n",
            " [ 1.02057691  0.69976376 -0.81053684  0.22945753  0.77641583]]\n",
            "[[1. 1. 1. 1. 1.]\n",
            " [0. 1. 1. 1. 1.]\n",
            " [0. 0. 1. 1. 1.]\n",
            " [0. 0. 0. 1. 1.]\n",
            " [0. 0. 0. 0. 1.]]\n",
            "[[1. 0. 0. 0. 0.]\n",
            " [1. 1. 0. 0. 0.]\n",
            " [1. 1. 1. 0. 0.]\n",
            " [1. 1. 1. 1. 0.]\n",
            " [1. 1. 1. 1. 1.]]\n",
            "[ 0.8620458  -0.98567031 -0.50371057  0.43164628 -0.48398637]\n",
            "[[ 0.1410907   0.21422481  1.06159304 -0.2108711   0.37152439]\n",
            " [-0.          1.53617759  0.02399721  1.53865775  0.7965674 ]\n",
            " [ 0.          0.          1.18814158 -0.56289813 -0.93702525]\n",
            " [ 0.          0.         -0.          0.20265276  1.78272652]\n",
            " [ 0.          0.         -0.          0.          0.77641583]]\n",
            "[[ 0.1410907   0.35531551  1.41690855  1.20603745  1.57756183]\n",
            " [-1.68633017 -0.15015258 -0.12615538  1.41250238  2.20906977]\n",
            " [ 1.41038359  3.32358465  4.51172623  3.9488281   3.01180284]\n",
            " [ 1.93896801  3.24254711  2.7880413   2.99069405  4.77342057]\n",
            " [ 1.02057691  1.72034067  0.90980384  1.13926137  1.9156772 ]]\n"
          ]
        }
      ]
    },
    {
      "cell_type": "markdown",
      "source": [
        "### **Exercise**\n",
        "\n",
        "1. Create a $5 \\times 5$ normally distributed matrix (with mean $0$  and variance $0.1$), and then apply the sigmoid function $l(x) = \\frac{1}{1 + e^{-x}}$ to it element-wisely.\n",
        "\n",
        "2. Create a $3 \\times 3$ uniformly distributed matrix (between $-1$ and $+1$), and then clip it by keeping all non-negative elements but setting all negative elements to $0$."
      ],
      "metadata": {
        "id": "_vvDgGOadKau"
      }
    },
    {
      "cell_type": "code",
      "source": [
        "import numpy as np\n",
        "\n",
        "print(\"Output 1\")\n",
        "#1\n",
        "mean = 0\n",
        "var = 0.1\n",
        "m1 = np.random.normal(mean, var, size=(5, 5))\n",
        "print(m1)\n",
        "\n",
        "def sigmoid(x):\n",
        "  return 1 / (1 + np.exp(-x))\n",
        "\n",
        "m2 = sigmoid(m1)\n",
        "print(m2)\n",
        "\n",
        "#2\n",
        "print(\"\\nOutput 2\")\n",
        "m3 = np.random.uniform(-1, 1, size=(3, 3))\n",
        "print(m3)\n",
        "\n",
        "m3_clip = np.clip(m3, a_min=0,a_max=None)\n",
        "print(m3_clip)"
      ],
      "metadata": {
        "id": "ARewiDJZShLj",
        "outputId": "d8a87464-c9f3-4382-8d0a-f66b70fb54d2",
        "colab": {
          "base_uri": "https://localhost:8080/"
        }
      },
      "execution_count": 36,
      "outputs": [
        {
          "output_type": "stream",
          "name": "stdout",
          "text": [
            "Output 1\n",
            "[[-0.12311079  0.0924996  -0.00375828 -0.02274572 -0.04921465]\n",
            " [-0.03776941 -0.05384907 -0.05417217  0.2526569   0.0632932 ]\n",
            " [-0.13764155 -0.17990441  0.01908177  0.06358027  0.1124443 ]\n",
            " [-0.10105479  0.10966558  0.03517168 -0.07703625  0.23957704]\n",
            " [-0.19719881 -0.08038249 -0.01345693  0.00818655  0.16563031]]\n",
            "[[0.46926112 0.52310843 0.49906043 0.49431382 0.48769882]\n",
            " [0.49055877 0.48654098 0.48646027 0.56283035 0.51581802]\n",
            " [0.46564384 0.45514481 0.5047703  0.51588972 0.52808149]\n",
            " [0.47475778 0.52738895 0.50879201 0.48075046 0.55960941]\n",
            " [0.45085944 0.47991519 0.49663582 0.50204663 0.54131317]]\n",
            "\n",
            "Output 2\n",
            "[[ 0.43717027  0.81094254 -0.27562752]\n",
            " [ 0.88076368  0.1750527   0.90237662]\n",
            " [ 0.44276607 -0.31821409  0.85993822]]\n",
            "[[0.43717027 0.81094254 0.        ]\n",
            " [0.88076368 0.1750527  0.90237662]\n",
            " [0.44276607 0.         0.85993822]]\n"
          ]
        }
      ]
    },
    {
      "cell_type": "code",
      "source": [],
      "metadata": {
        "id": "mMJaf3Q_SnFV"
      },
      "execution_count": null,
      "outputs": []
    }
  ]
}